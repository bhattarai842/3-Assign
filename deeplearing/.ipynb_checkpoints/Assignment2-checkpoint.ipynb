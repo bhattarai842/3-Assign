{
 "cells": [
  {
   "cell_type": "code",
   "execution_count": 10,
   "metadata": {
    "collapsed": false
   },
   "outputs": [
    {
     "ename": "TypeError",
     "evalue": "('Bad input argument to theano function with name \"<ipython-input-10-7f15666b8e50>:16\"  at index 0(0-based)', 'Expected an array-like object, but found a Variable: maybe you are trying to call a function on a (possibly shared) variable instead of a numeric array?')",
     "output_type": "error",
     "traceback": [
      "\u001b[0;31m---------------------------------------------------------------------------\u001b[0m",
      "\u001b[0;31mTypeError\u001b[0m                                 Traceback (most recent call last)",
      "\u001b[0;32m<ipython-input-10-7f15666b8e50>\u001b[0m in \u001b[0;36m<module>\u001b[0;34m()\u001b[0m\n\u001b[1;32m     28\u001b[0m \u001b[0;31m# define responses of the network to the input data:\u001b[0m\u001b[0;34m\u001b[0m\u001b[0;34m\u001b[0m\u001b[0m\n\u001b[1;32m     29\u001b[0m \u001b[0mhiddenUnitInputs\u001b[0m \u001b[0;34m=\u001b[0m \u001b[0mT\u001b[0m\u001b[0;34m.\u001b[0m\u001b[0mdot\u001b[0m\u001b[0;34m(\u001b[0m\u001b[0mhiddenUnitWeights\u001b[0m\u001b[0;34m,\u001b[0m\u001b[0minputData\u001b[0m\u001b[0;34m)\u001b[0m \u001b[0;34m+\u001b[0m \u001b[0mhiddenUnitBiases\u001b[0m \u001b[0;31m# numHiddens x numExamples\u001b[0m\u001b[0;34m\u001b[0m\u001b[0m\n\u001b[0;32m---> 30\u001b[0;31m \u001b[0mhiddenUnitOuputs\u001b[0m \u001b[0;34m=\u001b[0m \u001b[0mlogistic\u001b[0m\u001b[0;34m(\u001b[0m\u001b[0mhiddenUnitInputs\u001b[0m\u001b[0;34m)\u001b[0m\u001b[0;34m\u001b[0m\u001b[0m\n\u001b[0m\u001b[1;32m     31\u001b[0m \u001b[0moutputData\u001b[0m \u001b[0;34m=\u001b[0m \u001b[0mT\u001b[0m\u001b[0;34m.\u001b[0m\u001b[0mdot\u001b[0m\u001b[0;34m(\u001b[0m\u001b[0moutputUnitWeights\u001b[0m\u001b[0;34m,\u001b[0m\u001b[0mhiddenUnitOutputs\u001b[0m\u001b[0;34m)\u001b[0m \u001b[0;31m# 1 x numExamples\u001b[0m\u001b[0;34m\u001b[0m\u001b[0m\n\u001b[1;32m     32\u001b[0m \u001b[0;34m\u001b[0m\u001b[0m\n",
      "\u001b[0;32m/usr/local/lib/python2.7/dist-packages/theano/compile/function_module.pyc\u001b[0m in \u001b[0;36m__call__\u001b[0;34m(self, *args, **kwargs)\u001b[0m\n\u001b[1;32m    784\u001b[0m                         s.storage[0] = s.type.filter(\n\u001b[1;32m    785\u001b[0m                             \u001b[0marg\u001b[0m\u001b[0;34m,\u001b[0m \u001b[0mstrict\u001b[0m\u001b[0;34m=\u001b[0m\u001b[0ms\u001b[0m\u001b[0;34m.\u001b[0m\u001b[0mstrict\u001b[0m\u001b[0;34m,\u001b[0m\u001b[0;34m\u001b[0m\u001b[0m\n\u001b[0;32m--> 786\u001b[0;31m                             allow_downcast=s.allow_downcast)\n\u001b[0m\u001b[1;32m    787\u001b[0m \u001b[0;34m\u001b[0m\u001b[0m\n\u001b[1;32m    788\u001b[0m                     \u001b[0;32mexcept\u001b[0m \u001b[0mException\u001b[0m \u001b[0;32mas\u001b[0m \u001b[0me\u001b[0m\u001b[0;34m:\u001b[0m\u001b[0;34m\u001b[0m\u001b[0m\n",
      "\u001b[0;32m/usr/local/lib/python2.7/dist-packages/theano/tensor/type.pyc\u001b[0m in \u001b[0;36mfilter\u001b[0;34m(self, data, strict, allow_downcast)\u001b[0m\n\u001b[1;32m     84\u001b[0m         \u001b[0;32mif\u001b[0m \u001b[0misinstance\u001b[0m\u001b[0;34m(\u001b[0m\u001b[0mdata\u001b[0m\u001b[0;34m,\u001b[0m \u001b[0mVariable\u001b[0m\u001b[0;34m)\u001b[0m\u001b[0;34m:\u001b[0m\u001b[0;34m\u001b[0m\u001b[0m\n\u001b[1;32m     85\u001b[0m             raise TypeError(\n\u001b[0;32m---> 86\u001b[0;31m                 \u001b[0;34m'Expected an array-like object, but found a Variable: '\u001b[0m\u001b[0;34m\u001b[0m\u001b[0m\n\u001b[0m\u001b[1;32m     87\u001b[0m                 \u001b[0;34m'maybe you are trying to call a function on a (possibly '\u001b[0m\u001b[0;34m\u001b[0m\u001b[0m\n\u001b[1;32m     88\u001b[0m                 'shared) variable instead of a numeric array?')\n",
      "\u001b[0;31mTypeError\u001b[0m: ('Bad input argument to theano function with name \"<ipython-input-10-7f15666b8e50>:16\"  at index 0(0-based)', 'Expected an array-like object, but found a Variable: maybe you are trying to call a function on a (possibly shared) variable instead of a numeric array?')"
     ]
    }
   ],
   "source": [
    "# Theano-imports\n",
    "import theano as th \n",
    "import theano.tensor as T \n",
    "import gzip\n",
    "import cPickle\n",
    "\n",
    "# mnist dataset\n",
    "f = gzip.open('/home/bhattarai/Downloads/mnist.pkl.gz', 'rb')\n",
    "train_set, valid_set, test_set = cPickle.load(f)\n",
    "f.close()\n",
    "\n",
    "\n",
    "# Sigmoid function\n",
    "x = T.dmatrix('x')\n",
    "s = 1 / (1 + T.exp(-x))\n",
    "logistic = th.function([x], s)\n",
    "\n",
    "# network parameters\n",
    "hiddenUnitWeights = T.dmatrix('hiddenUnitWeights') # numHiddens x numVisibles  = 5000x784\n",
    "hiddenUnitBiases  = T.dcol('hiddenUnitBiases')     # numHiddens x 1 = 784 x1\n",
    "outputUnitWeights1 = T.drow('outputUnitWeights')    # numHideens x numHiddens = 784 x 784\n",
    "outputUnitWeightsfinal = T.drow('outputUnitWeights')    # numHideens x 10 = 784 x 10\n",
    "\n",
    "\n",
    "# input data \n",
    "inputData = T.dmatrix('inputData') # numVisibles x numExamples\n",
    "\n",
    "\n",
    "# define responses of the network to the input data:\n",
    "hiddenUnitInputs = T.dot(hiddenUnitWeights,inputData) + hiddenUnitBiases # numHiddens x numExamples\n",
    "hiddenUnitOuputs1 = T.dot(outputUnitWeights, 1 / (1 + T.exp(-hiddenUnitInputs)))\n",
    "hiddenUnitOuts2 = T.dot(outputUnitWeights1, 1 / (1 + T.exp(-hiddenUnitOuputs1)))\n",
    "outputData = T.nnet.softmax(T.dot(outputUnitWeightsfinal,hiddenUnitOuts2))\n",
    "\n",
    "# 1 x numExamples\n",
    "\n",
    "# define the Theano-function to do the input-output mapping\n",
    "FFnetMapping = th.function([inputData, hiddenUnitWeights, hiddenUnitBiases, outputUnitWeights], outputData)\n",
    "\n",
    "targetData = T.drow('targetData')\n",
    "# cost \n",
    "cost = T.sum((targetData-outputData)**2)\n",
    "# Theano-function to compute the cost\n",
    "computeCost = th.function([inputData,hiddenUnitWeights,hiddenUnitBiases,outputUnitWeights,targetData],cost)\n",
    "# Then also for gradient computation\n",
    "modelParameters = [hiddenUnitWeights,hiddenUnitBiases,outputUnitWeights]\n",
    "costGrad = T.grad(cost,modelParameters) \n",
    "computeCostGrad = th.function([inputData,hiddenUnitWeights,hiddenUnitBiases,outputUnitWeights,targetData],costGrad)"
   ]
  },
  {
   "cell_type": "code",
   "execution_count": null,
   "metadata": {
    "collapsed": true
   },
   "outputs": [],
   "source": [
    "# mnist dataset\n",
    "f = gzip.open('/home/bhattarai/Downloads/mnist.pkl.gz', 'rb')\n",
    "train_set, valid_set, test_set = cPickle.load(f)\n",
    "f.close()\n",
    "\n",
    "import numpy as np\n",
    "# define the parameter values\n",
    "W = np.ones((2,2),dtype='float32')\n",
    "c = np.array([[0.],[-1.]],dtype='float32')\n",
    "w = np.array([[1.,-2.]],dtype='float32')\n",
    "b = 0.\n",
    "# define the input data\n",
    "X = np.array([[0.,0.],[0.,1.],[1.,0.],[1.,1.]],dtype='float32').T\n",
    "# compute the input-output mapping using the F-F-net \n",
    "output = FFnetMapping(X,W,c,w,b)\n",
    "\n",
    "# print out the results\n",
    "print \"network input:\\n\"+str(X) + \"\\n network output:\\n\" +str(output)"
   ]
  }
 ],
 "metadata": {
  "kernelspec": {
   "display_name": "Python 2",
   "language": "python",
   "name": "python2"
  },
  "language_info": {
   "codemirror_mode": {
    "name": "ipython",
    "version": 2
   },
   "file_extension": ".py",
   "mimetype": "text/x-python",
   "name": "python",
   "nbconvert_exporter": "python",
   "pygments_lexer": "ipython2",
   "version": "2.7.6"
  }
 },
 "nbformat": 4,
 "nbformat_minor": 1
}
