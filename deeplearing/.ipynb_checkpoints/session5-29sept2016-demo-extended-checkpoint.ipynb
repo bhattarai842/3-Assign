{
 "cells": [
  {
   "cell_type": "markdown",
   "metadata": {},
   "source": [
    "# [Aalto DL course 2016] - Session 5: Demo and help session"
   ]
  },
  {
   "cell_type": "code",
   "execution_count": null,
   "metadata": {
    "collapsed": true
   },
   "outputs": [],
   "source": []
  },
  {
   "cell_type": "markdown",
   "metadata": {},
   "source": [
    "## The XOR-solver network implementation and experimentation\n",
    "Here we implement and experiment with the XOR-solver network as described in Section 6.1 of Goodfellow, Bengio, and Courville (2016); URL: http://www.deeplearningbook.org/contents/mlp.html.\n",
    "\n",
    "Let's start by implementing the prediction function by the network: "
   ]
  },
  {
   "cell_type": "code",
   "execution_count": 10,
   "metadata": {
    "collapsed": false
   },
   "outputs": [],
   "source": [
    "# Theano-imports\n",
    "import theano as th \n",
    "import theano.tensor as T \n",
    "\n",
    "# network parameters\n",
    "hiddenUnitWeights = T.dmatrix('hiddenUnitWeights') # numHiddens x numVisibles\n",
    "hiddenUnitBiases  = T.dcol('hiddenUnitBiases')     # numHiddens x 1\n",
    "outputUnitWeights = T.drow('outputUnitWeights')    # 1 x numHiddens\n",
    "outputUnitBiases  = T.dscalar('outputUnitBiases')  # 1 x 1\n",
    "\n",
    "# input data \n",
    "inputData = T.dmatrix('inputData') # numVisibles x numExamples\n",
    "\n",
    "# define responses of the network to the input data:\n",
    "hiddenUnitInputs = T.dot(hiddenUnitWeights,inputData) + hiddenUnitBiases # numHiddens x numExamples\n",
    "hiddenUnitOutputs = T.maximum(T.zeros_like(hiddenUnitInputs),hiddenUnitInputs) # numHiddens x numExamples; this is the input to the output unit\n",
    "outputData = T.dot(outputUnitWeights,hiddenUnitOutputs)+outputUnitBiases # 1 x numExamples\n",
    "\n",
    "# define the Theano-function to do the input-output mapping\n",
    "FFnetMapping = th.function([inputData,hiddenUnitWeights,hiddenUnitBiases,outputUnitWeights,outputUnitBiases],outputData)"
   ]
  },
  {
   "cell_type": "markdown",
   "metadata": {},
   "source": [
    "Then let's test it on the data."
   ]
  },
  {
   "cell_type": "code",
   "execution_count": 11,
   "metadata": {
    "collapsed": false
   },
   "outputs": [
    {
     "name": "stdout",
     "output_type": "stream",
     "text": [
      "network input:\n",
      "[[ 0.  0.  1.  1.]\n",
      " [ 0.  1.  0.  1.]]\n",
      " network output:\n",
      "[[ 0.  1.  1.  0.]]\n"
     ]
    },
    {
     "data": {
      "text/plain": [
       "<matplotlib.collections.PathCollection at 0x7f49b328e310>"
      ]
     },
     "execution_count": 11,
     "metadata": {},
     "output_type": "execute_result"
    },
    {
     "data": {
      "image/png": "[encoded data removed]",
      "text/plain": [
       "<matplotlib.figure.Figure at 0x7f49b9c4cc90>"
      ]
     },
     "metadata": {},
     "output_type": "display_data"
    }
   ],
   "source": [
    "# import numpy, used for providing defining the input data and parameter values\n",
    "import numpy as np\n",
    "# define the parameter values\n",
    "W = np.ones((2,2),dtype='float32')\n",
    "c = np.array([[0.],[-1.]],dtype='float32')\n",
    "w = np.array([[1.,-2.]],dtype='float32')\n",
    "b = 0.\n",
    "# define the input data\n",
    "X = np.array([[0.,0.],[0.,1.],[1.,0.],[1.,1.]],dtype='float32').T\n",
    "# compute the input-output mapping using the F-F-net \n",
    "output = FFnetMapping(X,W,c,w,b)\n",
    "\n",
    "# print out the results\n",
    "print \"network input:\\n\"+str(X) + \"\\n network output:\\n\" +str(output)\n",
    "\n",
    "# plot the results\n",
    "import matplotlib.pyplot as plt\n",
    "%matplotlib inline\n",
    "plt.scatter(X[0,(output==0.)[0]],X[1,(output==0.)[0]],c='r',marker='o')\n",
    "plt.scatter(X[0,(output==1.)[0]],X[1,(output==1.)[0]],c='b',marker='*')"
   ]
  },
  {
   "cell_type": "markdown",
   "metadata": {},
   "source": [
    "Let's now try out learning such network from randomly initialized parameters; code not optimized at all!"
   ]
  },
  {
   "cell_type": "code",
   "execution_count": 32,
   "metadata": {
    "collapsed": false
   },
   "outputs": [],
   "source": [
    "# define target data \n",
    "targetData = T.drow('targetData')\n",
    "# cost \n",
    "cost = T.sum((targetData-outputData)**2)/targetData.shape[1]\n",
    "# Theano-function to compute the cost\n",
    "computeCost = th.function([inputData,hiddenUnitWeights,hiddenUnitBiases,outputUnitWeights,outputUnitBiases,targetData],cost)\n",
    "# Then also for gradient computation\n",
    "modelParameters = [hiddenUnitWeights,hiddenUnitBiases,outputUnitWeights,outputUnitBiases]\n",
    "costGrad = T.grad(cost,modelParameters) \n",
    "computeCostGrad = th.function([inputData,hiddenUnitWeights,hiddenUnitBiases,outputUnitWeights,outputUnitBiases,targetData],costGrad)"
   ]
  },
  {
   "cell_type": "code",
   "execution_count": 53,
   "metadata": {
    "collapsed": false
   },
   "outputs": [
    {
     "name": "stdout",
     "output_type": "stream",
     "text": [
      "cost with the oracle parameters: 0.0\n",
      "cost with randomly initialized parameters: 0.499998674669\n",
      "epoch 0 : cost with randomly initialized, updated parameters: 0.409998597332.\n",
      "epoch 100 : cost with randomly initialized, updated parameters: 0.249960298909.\n",
      "epoch 200 : cost with randomly initialized, updated parameters: 0.248564108891.\n",
      "epoch 300 : cost with randomly initialized, updated parameters: 0.21128972729.\n",
      "epoch 400 : cost with randomly initialized, updated parameters: 0.022390347408.\n",
      "epoch 500 : cost with randomly initialized, updated parameters: 9.00568205188e-05.\n",
      "epoch 600 : cost with randomly initialized, updated parameters: 1.90046128841e-07.\n",
      "epoch 700 : cost with randomly initialized, updated parameters: 4.15571848189e-10.\n",
      "epoch 800 : cost with randomly initialized, updated parameters: 8.67164820338e-13.\n",
      "epoch 900 : cost with randomly initialized, updated parameters: 1.87931373312e-15.\n"
     ]
    },
    {
     "data": {
      "text/plain": [
       "[<matplotlib.lines.Line2D at 0x7f49b3163710>]"
      ]
     },
     "execution_count": 53,
     "metadata": {},
     "output_type": "execute_result"
    },
    {
     "data": {
      "image/png": "[encoded data removed]",
      "text/plain": [
       "<matplotlib.figure.Figure at 0x7f49b07c3d50>"
      ]
     },
     "metadata": {},
     "output_type": "display_data"
    }
   ],
   "source": [
    "Y = np.array([[0.,1.,1.,0.]],dtype='float32')\n",
    "cost = computeCost(X,W,c,w,b,Y)\n",
    "print \"cost with the oracle parameters: \" +str(cost)\n",
    "\n",
    "W0 = 0.01*np.random.randn(W.shape[0],W.shape[1])\n",
    "c0 = np.zeros(c.shape)\n",
    "w0 = 0.01*np.random.randn(w.shape[0],w.shape[1])\n",
    "b0 = 0\n",
    "cost = computeCost(X,W0,c0,w0,b0,Y)\n",
    "print \"cost with randomly initialized parameters: \" +str(cost)\n",
    "learningRate = 0.1\n",
    "numEpochs = 1000\n",
    "costs = np.empty(numEpochs+1)\n",
    "costs[0] = cost\n",
    "for epoch in range(numEpochs):\n",
    "    # compute gradient\n",
    "    gradient = computeCostGrad(X,W0,c0,w0,b0,Y)    \n",
    "    # update parameters by GD\n",
    "    W0 -= learningRate*gradient[0]\n",
    "    c0 -= learningRate*gradient[1]\n",
    "    w0 -= learningRate*gradient[2]\n",
    "    b0 -= learningRate*gradient[3]\n",
    "    # compute cost with update parameters\n",
    "    cost = computeCost(X,W0,c0,w0,b0,Y)\n",
    "    if np.mod(epoch,100) == 0:\n",
    "        print \"epoch \" + str(epoch) + \" : cost with randomly initialized, updated parameters: \" + str(cost) + \".\"\n",
    "    costs[epoch+1]=cost\n",
    "plt.plot(range(numEpochs+1),costs)"
   ]
  },
  {
   "cell_type": "code",
   "execution_count": null,
   "metadata": {
    "collapsed": true
   },
   "outputs": [],
   "source": []
  }
 ],
 "metadata": {
  "celltoolbar": "Edit Metadata",
  "kernelspec": {
   "display_name": "Python 2",
   "language": "python",
   "name": "python2"
  },
  "language_info": {
   "codemirror_mode": {
    "name": "ipython",
    "version": 2
   },
   "file_extension": ".py",
   "mimetype": "text/x-python",
   "name": "python",
   "nbconvert_exporter": "python",
   "pygments_lexer": "ipython2",
   "version": "2.7.6"
  }
 },
 "nbformat": 4,
 "nbformat_minor": 1
}
